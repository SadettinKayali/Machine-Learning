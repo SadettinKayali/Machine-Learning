{
  "cells": [
    {
      "attachments": {},
      "cell_type": "markdown",
      "metadata": {
        "id": "VMuUK0ap_bRD"
      },
      "source": [
        "# Chapter 1\n",
        "### Your first day at your new job 👩‍💻👨‍💻\n",
        "\n",
        "You are starting a new job as a junior software developer in an IT company. \n",
        "\n",
        "The company’s HR department asks you to fill out a form, so you start by assigning your personal information to corresponding variables.\n",
        "\n",
        "📌 Create a variable for your name, surname, age, ID number, place of residence, to specify if you have active health insurance or not, and lastly one for specifying your nationality.\n"
      ]
    },
    {
      "cell_type": "code",
      "execution_count": null,
      "metadata": {
        "id": "OPLhhc2Sp-D0"
      },
      "outputs": [],
      "source": [
        "#Please assign your personal information to variables\n"
      ]
    },
    {
      "attachments": {},
      "cell_type": "markdown",
      "metadata": {
        "id": "3zaUlxwcp-D0"
      },
      "source": [
        "###Meet And Greet\n",
        "Introduce yourself to your new co-workers.\n",
        "\n",
        "📌 Use a f-string to print \"My name is Joey Tribbiani I am 25 years old and I live in London”."
      ]
    },
    {
      "cell_type": "code",
      "execution_count": null,
      "metadata": {
        "id": "XNuh5_2WXwvg"
      },
      "outputs": [],
      "source": [
        "#Write a sentence using the print function to describe yourself using the variables above in the correct data type\n"
      ]
    },
    {
      "attachments": {},
      "cell_type": "markdown",
      "metadata": {
        "id": "EEL9To4ip-D1"
      },
      "source": [
        "### Equipment starter pack\n",
        "The HR department asks you to list the items you would need to improve your work efficiency\n",
        "\n",
        "Mandatory:\n",
        "* Laptop\n",
        "* Headset\n",
        "* Second monitor\n",
        "\n",
        "Optional:\n",
        "* Mousepad\n",
        "* USB drive\n",
        "* External drive\n",
        "\n",
        "\n",
        "📌 Create a shopping list that contains items above and print it."
      ]
    },
    {
      "cell_type": "code",
      "execution_count": null,
      "metadata": {
        "id": "fPFBLDyqp-D2"
      },
      "outputs": [],
      "source": [
        "#Create the item_list\n"
      ]
    },
    {
      "cell_type": "code",
      "execution_count": null,
      "metadata": {
        "id": "358R_CN5U2-J"
      },
      "outputs": [],
      "source": [
        "#Print the list\n"
      ]
    },
    {
      "attachments": {},
      "cell_type": "markdown",
      "metadata": {
        "id": "5keEWjCyp-D2"
      },
      "source": [
        "####What is mandatory and what is optional?\n",
        "\n",
        "📌 Use list slicing to devide your list in two list: 'mandatory_item_list' and 'optional_item_list' and print both to the screen."
      ]
    },
    {
      "cell_type": "code",
      "execution_count": null,
      "metadata": {
        "id": "E6ewuDYZp-D2"
      },
      "outputs": [],
      "source": [
        "#Use list slicing to divide the mandatory items\n"
      ]
    },
    {
      "cell_type": "code",
      "execution_count": null,
      "metadata": {
        "id": "hOmkym01RGEL"
      },
      "outputs": [],
      "source": [
        "#Use list slicing to divide the optional items\n"
      ]
    },
    {
      "cell_type": "code",
      "execution_count": null,
      "metadata": {
        "id": "xsVv1_msVE1_"
      },
      "outputs": [],
      "source": [
        "#Print both to the screen\n"
      ]
    },
    {
      "attachments": {},
      "cell_type": "markdown",
      "metadata": {
        "id": "s_M1Q93wp-D3"
      },
      "source": [
        "#### Go Shopping\n",
        "Next, you will have to go and purchase these items, the finance department confirmed a budget of $5000.\n",
        "\n",
        "📌 Assign 5000 to a variable called limit, so you know how much you can spend."
      ]
    },
    {
      "cell_type": "code",
      "execution_count": null,
      "metadata": {
        "id": "nCmpm0oqp-D3"
      },
      "outputs": [],
      "source": [
        "#Assign the spending limit value to a variable called limit\n"
      ]
    },
    {
      "attachments": {},
      "cell_type": "markdown",
      "metadata": {
        "id": "VwbEEymVp-D3"
      },
      "source": [
        "####Price dictionary\n",
        "\n",
        "Before you start shopping yo need to find the best items that you can buy within the company budget. \n",
        "\n",
        "📌 Prepare a dictionary called “price_sheet” that includes the items as keys and the prices as values.  \n",
        " "
      ]
    },
    {
      "cell_type": "code",
      "execution_count": null,
      "metadata": {
        "id": "9o9n9Ag-p-D3"
      },
      "outputs": [],
      "source": [
        "#Create a dictionary that contains each item and its price\n",
        "\n"
      ]
    },
    {
      "attachments": {},
      "cell_type": "markdown",
      "metadata": {
        "id": "rUYivBVEBhCv"
      },
      "source": [
        "####Shopping functions\n",
        "\n",
        "You need to define three functions that will help you during shopping.\n",
        "\n",
        "📌 First, create an empty list that  will be your shopping cart. Here you will add the items you need to purchase.\n",
        "\n",
        "1. Define a function for both adding items to the cart and removing them from the item_list.\n",
        "\n",
        "📌 The \"add_to_cart\" function should take the item name and the quantity to buy as an argument. \n",
        "\n",
        "2. Define a function that will create an invoice. \n",
        "\n",
        "📌 The \"create_invoice\" function should calculate the taxes of each item (18%) and add it to the total amount.\n",
        "\n",
        "3. Define a function for the checkout. \n",
        "\n",
        "📌 The \"checkout\" function should subtract the total amount from the budget and print a statement to inform if the payment was successful. "
      ]
    },
    {
      "cell_type": "code",
      "execution_count": null,
      "metadata": {
        "id": "dBNZ2ZdkGHUe"
      },
      "outputs": [],
      "source": [
        "#Initialize the cart list\n"
      ]
    },
    {
      "cell_type": "code",
      "execution_count": null,
      "metadata": {
        "id": "HH26hHHFGKPJ"
      },
      "outputs": [],
      "source": [
        "#Define the \"add_to_cart\" function\n"
      ]
    },
    {
      "cell_type": "code",
      "execution_count": null,
      "metadata": {
        "id": "TUmNr4xVGQdm"
      },
      "outputs": [],
      "source": [
        "#Define the \"create_invoice\" function\n"
      ]
    },
    {
      "cell_type": "code",
      "execution_count": null,
      "metadata": {
        "id": "iUlKiXgMGdIk"
      },
      "outputs": [],
      "source": [
        "#Define the \"checkout\" function\n"
      ]
    },
    {
      "attachments": {},
      "cell_type": "markdown",
      "metadata": {
        "id": "2IFUlu0yB0In"
      },
      "source": [
        "Let's shop!"
      ]
    },
    {
      "cell_type": "code",
      "execution_count": null,
      "metadata": {
        "id": "FDO7CRJTWPg7"
      },
      "outputs": [],
      "source": [
        "#Call the \"add_to_cart\" function for each item\n",
        " \n",
        "#Add first item to cart\n",
        "\n",
        " \n",
        "#Add second item to cart\n",
        "\n",
        " \n",
        "#Add third item to cart\n",
        "\n",
        " \n",
        "#Add fourth item to cart\n",
        "\n",
        " \n",
        "#Add fifth item to cart\n",
        "\n",
        " \n",
        "#Add last item to cart\n",
        "\n",
        " \n",
        "#Call the create \"checkout\" function to pay for all your items \n"
      ]
    },
    {
      "attachments": {},
      "cell_type": "markdown",
      "metadata": {
        "id": "ZL-r2x_xKixg"
      },
      "source": [
        "###Game Night\n",
        "\n",
        "You are back at the office and the HR department organizes a welcome party for new employees. \n",
        "\n",
        "You decide to create a Rock-Paper-Scissor game. \n",
        "\n",
        "📌 Create a Rock-Paper-Scissor game in which the user plays against the computer. The player will choose one of the actions, and the computer will choose its action randomly.\n"
      ]
    },
    {
      "cell_type": "code",
      "execution_count": 4,
      "metadata": {
        "id": "qzD5pxBTgcFb"
      },
      "outputs": [],
      "source": [
        "#Import the random library\n",
        "import random"
      ]
    },
    {
      "cell_type": "code",
      "execution_count": 5,
      "metadata": {
        "id": "oJv-ihLAgcRo"
      },
      "outputs": [],
      "source": [
        "#create a list containing the three actions of the game.\n",
        "action_list=['rock','paper','scissors']"
      ]
    },
    {
      "cell_type": "code",
      "execution_count": 9,
      "metadata": {
        "id": "DNUa_9afWqMd"
      },
      "outputs": [
        {
          "name": "stdout",
          "output_type": "stream",
          "text": [
            "* Round Number :  1 *\n",
            "Computer:  scissors\n",
            "Player  :  rock\n",
            "You Win !!\n",
            "SCORE = You :  1 - Computer :  0\n",
            "** Round Number :  2 **\n",
            "Computer:  rock\n",
            "Player  :  rock\n",
            "Tie ! Both players chose the same action\n",
            "SCORE = You :  1 - Computer :  0\n",
            "*** Round Number :  3 ***\n",
            "Computer:  scissors\n",
            "Player  :  rock\n",
            "You Win !!\n",
            "SCORE = You :  2 - Computer :  0\n",
            "You WON !! SCORE = You :  2 - Computer :  0\n"
          ]
        }
      ],
      "source": [
        "#Set the scores of players to 0\n",
        "computer_score=0\n",
        "player_score=0\n",
        "#Ask the user how many rounds they want to play\n",
        "total_rounds=input(\"How many rounds do you want to play?  Please enter a number here : \")\n",
        "#Add a round_counter that is 0 at the beginning\n",
        "round_counter=0\n",
        "#Write a while loop and put the game inside\n",
        "while True:\n",
        "  #Increase round_counter by and print it\n",
        "  round_counter +=1\n",
        "  print('*'*round_counter,'Round Number : ',round_counter,'*'*round_counter)\n",
        "  #Select a random action for computer\n",
        "  computer_choice =random.choice(action_list)  \n",
        "  #Ask player to choose an action\n",
        "  player_choice=input('Please choose your action [rock,paper,scissors] : ')\n",
        "  #Print the players choices\n",
        "  print(\"Computer: \",computer_choice)\n",
        "  print(\"Player  : \",player_choice) \n",
        "  #tie condition\n",
        "  if computer_choice==player_choice:\n",
        "    print(\"Tie ! Both players chose the same action\")\n",
        "  #Remaining conditions\n",
        "  elif computer_choice=='paper':\n",
        "    if player_choice=='rock':\n",
        "      print('Computer Win !')\n",
        "      computer_score +=1\n",
        "    else:\n",
        "      print('You Win !!')\n",
        "      player_score+=1\n",
        "#     \n",
        "  elif computer_choice=='rock':\n",
        "    if player_choice=='paper':\n",
        "      print('You Win !!')\n",
        "      player_score +=1\n",
        "    else:\n",
        "      print('Computer Win !')\n",
        "      computer_score +=1  \n",
        "#        \n",
        "  elif computer_choice=='scissors':\n",
        "    if player_choice=='paper':\n",
        "      print('Computer Win !')\n",
        "      computer_score +=1\n",
        "    else:\n",
        "      print('You Win !!')\n",
        "      player_score+=1\n",
        "  print('SCORE = You : ',player_score,'-','Computer : ',computer_score)\n",
        "  #Stop the while loop if the round_counter equals the number of total rounds\n",
        "  if round_counter==int(total_rounds):\n",
        "    break\n",
        "#Print the outcome of the game by using conditional statements\n",
        "if computer_score==player_score:\n",
        "  print('There is no winner, TIE !!!',computer_score, ' : ',player_score)\n",
        "elif computer_score > player_score :\n",
        "  print('Computer Won ! SCORE = Computer : ',computer_score,'-','You : ',player_score)\n",
        "elif computer_score < player_score :\n",
        "  print('You WON !! SCORE = You : ',player_score,'-','Computer : ',computer_score)"
      ]
    },
    {
      "attachments": {},
      "cell_type": "markdown",
      "metadata": {
        "id": "jdrYN0Xgp-D6"
      },
      "source": [
        "# Your first task \n",
        "\n",
        "Rachel asks you to write a program to track the name and revenue each employee brings.  \n",
        "\n",
        "* Create the \"salesperson_revenue\" dictionary to see the employee name as a key and the revenue as a value.\n",
        "\n",
        "  📌 Every employee starts with 0 revenue.\n",
        "* Define the \"enter_revenue\" function. \n",
        "\n",
        "  📌 The function takes the name and revenue as an argument and updates the salesperson_revenue dictionary.\n"
      ]
    },
    {
      "cell_type": "code",
      "execution_count": 26,
      "metadata": {
        "id": "3vzRo7hyMRv2"
      },
      "outputs": [],
      "source": [
        "#Create salesperson_revenue dictionary\n",
        "sales_person_revenue={\n",
        "    \"Ben\":0,\n",
        "    \"Omer\":0,\n",
        "    \"Karen\":0,\n",
        "    \"Celine\":0,\n",
        "    \"Sue\":0,\n",
        "    \"Bora\":0,\n",
        "    \"Rose\":0,\n",
        "    \"Ellen\":0,\n",
        "    }"
      ]
    },
    {
      "cell_type": "code",
      "execution_count": 27,
      "metadata": {
        "id": "m-8IozBwMRzM"
      },
      "outputs": [],
      "source": [
        "#Define enter_revenue function\n",
        "def enter_revenue(name,revenue):\n",
        "    global sales_person_revenue\n",
        "    sales_person_revenue[name]+=revenue"
      ]
    },
    {
      "attachments": {},
      "cell_type": "markdown",
      "metadata": {
        "id": "UnTGSoNTi58u"
      },
      "source": [
        "####Try out the functions\n",
        "* In a while loop ask the user to give the name of the employee and for the revenue \n",
        "\n",
        "  📌 If the user enters “quit” the loop should break.\n",
        "\n",
        "After that, print out the salesperson_revenue dictionary.\n"
      ]
    },
    {
      "cell_type": "code",
      "execution_count": 31,
      "metadata": {
        "id": "2E549VvFXNi6"
      },
      "outputs": [
        {
          "name": "stdout",
          "output_type": "stream",
          "text": [
            "Ben's revenue is 89\n",
            "{'Ben': 89, 'Omer': 242, 'Karen': 0, 'Celine': 0, 'Sue': 0, 'Bora': 0, 'Rose': 20, 'Ellen': 0}\n",
            "{'Ben': 89, 'Omer': 242, 'Karen': 0, 'Celine': 0, 'Sue': 0, 'Bora': 0, 'Rose': 20, 'Ellen': 0}\n"
          ]
        }
      ],
      "source": [
        "#Asking user employee name as input\n",
        "while True:\n",
        "    name=input(\"Employee Name : \")\n",
        "    if name==\"quit\":\n",
        "        break\n",
        "    revenue=int(input(\"Enter revenue : \"))\n",
        "    enter_revenue(name,revenue)\n",
        "    print(f\"{name}'s revenue is {sales_person_revenue[name]}\")\n",
        "    print(sales_person_revenue)\n",
        "print(sales_person_revenue)"
      ]
    },
    {
      "cell_type": "code",
      "execution_count": null,
      "metadata": {
        "id": "OAvl9rgOXPe6"
      },
      "outputs": [],
      "source": [
        "#Print the salesperson_revenue dictionary\n"
      ]
    }
  ],
  "metadata": {
    "colab": {
      "collapsed_sections": [],
      "name": "Guided_project_1.ipynb",
      "provenance": []
    },
    "interpreter": {
      "hash": "c5914ae3790566b9cd0e984a9bdda42a29da8adf046b5ac0173e0d37aacf3dab"
    },
    "kernelspec": {
      "display_name": "Python 3.9.7",
      "language": "python",
      "name": "python3"
    },
    "language_info": {
      "codemirror_mode": {
        "name": "ipython",
        "version": 3
      },
      "file_extension": ".py",
      "mimetype": "text/x-python",
      "name": "python",
      "nbconvert_exporter": "python",
      "pygments_lexer": "ipython3",
      "version": "3.10.9"
    },
    "orig_nbformat": 4
  },
  "nbformat": 4,
  "nbformat_minor": 0
}
